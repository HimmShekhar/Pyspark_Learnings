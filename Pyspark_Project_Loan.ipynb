{
 "cells": [
  {
   "cell_type": "code",
   "execution_count": 72,
   "metadata": {},
   "outputs": [],
   "source": [
    "import pyspark\n",
    "from pyspark.sql import SparkSession\n",
    "import pyspark.sql.functions as F\n",
    "import pandas as pd\n",
    "import warnings\n",
    "warnings.filterwarnings('ignore')"
   ]
  },
  {
   "cell_type": "code",
   "execution_count": 73,
   "metadata": {},
   "outputs": [],
   "source": [
    "spark = SparkSession.builder.appName('loan_prediction').getOrCreate() #initializing the session"
   ]
  },
  {
   "cell_type": "code",
   "execution_count": 74,
   "metadata": {},
   "outputs": [
    {
     "name": "stdout",
     "output_type": "stream",
     "text": [
      "+--------+------+-------+----------+------------+-------------+---------------+-----------------+----------+----------------+--------------+-------------+-----------+\n",
      "| Loan_ID|Gender|Married|Dependents|   Education|Self_Employed|ApplicantIncome|CoapplicantIncome|LoanAmount|Loan_Amount_Term|Credit_History|Property_Area|Loan_Status|\n",
      "+--------+------+-------+----------+------------+-------------+---------------+-----------------+----------+----------------+--------------+-------------+-----------+\n",
      "|LP001002|  Male|     No|         0|    Graduate|           No|           5849|              0.0|      NULL|             360|             1|        Urban|          Y|\n",
      "|LP001003|  Male|    Yes|         1|    Graduate|           No|           4583|           1508.0|       128|             360|             1|        Rural|          N|\n",
      "|LP001005|  Male|    Yes|         0|    Graduate|          Yes|           3000|              0.0|        66|             360|             1|        Urban|          Y|\n",
      "|LP001006|  Male|    Yes|         0|Not Graduate|           No|           2583|           2358.0|       120|             360|             1|        Urban|          Y|\n",
      "|LP001008|  Male|     No|         0|    Graduate|           No|           6000|              0.0|       141|             360|             1|        Urban|          Y|\n",
      "+--------+------+-------+----------+------------+-------------+---------------+-----------------+----------+----------------+--------------+-------------+-----------+\n",
      "only showing top 5 rows\n",
      "\n"
     ]
    }
   ],
   "source": [
    "df = spark.read.csv('train.csv', header = True, inferSchema=True) #Reading CSV File\n",
    "df.show(5)"
   ]
  },
  {
   "cell_type": "code",
   "execution_count": 75,
   "metadata": {},
   "outputs": [
    {
     "name": "stdout",
     "output_type": "stream",
     "text": [
      "root\n",
      " |-- Loan_ID: string (nullable = true)\n",
      " |-- Gender: string (nullable = true)\n",
      " |-- Married: string (nullable = true)\n",
      " |-- Dependents: string (nullable = true)\n",
      " |-- Education: string (nullable = true)\n",
      " |-- Self_Employed: string (nullable = true)\n",
      " |-- ApplicantIncome: integer (nullable = true)\n",
      " |-- CoapplicantIncome: double (nullable = true)\n",
      " |-- LoanAmount: integer (nullable = true)\n",
      " |-- Loan_Amount_Term: integer (nullable = true)\n",
      " |-- Credit_History: integer (nullable = true)\n",
      " |-- Property_Area: string (nullable = true)\n",
      " |-- Loan_Status: string (nullable = true)\n",
      "\n"
     ]
    }
   ],
   "source": [
    "df.printSchema()"
   ]
  },
  {
   "cell_type": "markdown",
   "metadata": {},
   "source": [
    "### Data Analysis"
   ]
  },
  {
   "cell_type": "code",
   "execution_count": 76,
   "metadata": {},
   "outputs": [
    {
     "data": {
      "text/plain": [
       "[('Loan_ID', 'string'),\n",
       " ('Gender', 'string'),\n",
       " ('Married', 'string'),\n",
       " ('Dependents', 'string'),\n",
       " ('Education', 'string'),\n",
       " ('Self_Employed', 'string'),\n",
       " ('ApplicantIncome', 'int'),\n",
       " ('CoapplicantIncome', 'double'),\n",
       " ('LoanAmount', 'int'),\n",
       " ('Loan_Amount_Term', 'int'),\n",
       " ('Credit_History', 'int'),\n",
       " ('Property_Area', 'string'),\n",
       " ('Loan_Status', 'string')]"
      ]
     },
     "execution_count": 76,
     "metadata": {},
     "output_type": "execute_result"
    }
   ],
   "source": [
    "df.dtypes"
   ]
  },
  {
   "cell_type": "code",
   "execution_count": 77,
   "metadata": {},
   "outputs": [
    {
     "name": "stdout",
     "output_type": "stream",
     "text": [
      "+-----------+-----+\n",
      "|Loan_Status|count|\n",
      "+-----------+-----+\n",
      "|          Y|  422|\n",
      "|          N|  192|\n",
      "+-----------+-----+\n",
      "\n"
     ]
    }
   ],
   "source": [
    "df.groupBy('Loan_Status').count().show() #display count based on Loan_Status"
   ]
  },
  {
   "cell_type": "code",
   "execution_count": 78,
   "metadata": {},
   "outputs": [
    {
     "name": "stdout",
     "output_type": "stream",
     "text": [
      "+-----------+-------------------+\n",
      "|Loan_Status|avg(Credit_History)|\n",
      "+-----------+-------------------+\n",
      "|          Y| 0.9818181818181818|\n",
      "|          N| 0.5418994413407822|\n",
      "+-----------+-------------------+\n",
      "\n"
     ]
    }
   ],
   "source": [
    "df.select(\"Credit_History\", \"Loan_Status\").groupBy('Loan_Status').agg(F.avg('Credit_History')).show() #Checking Average Credit History on Loan Status"
   ]
  },
  {
   "cell_type": "code",
   "execution_count": 79,
   "metadata": {},
   "outputs": [
    {
     "name": "stdout",
     "output_type": "stream",
     "text": [
      "+-----------+------+-----+\n",
      "|Loan_Status|Gender|count|\n",
      "+-----------+------+-----+\n",
      "|          N|Female|   37|\n",
      "|          Y|  NULL|    8|\n",
      "|          Y|Female|   75|\n",
      "|          N|  NULL|    5|\n",
      "|          Y|  Male|  339|\n",
      "|          N|  Male|  150|\n",
      "+-----------+------+-----+\n",
      "\n"
     ]
    }
   ],
   "source": [
    "df.select('Gender','Loan_Status').groupBy('Loan_Status','Gender').count().show()"
   ]
  },
  {
   "cell_type": "markdown",
   "metadata": {},
   "source": [
    "### Perform SQL Operations"
   ]
  },
  {
   "cell_type": "code",
   "execution_count": 80,
   "metadata": {},
   "outputs": [],
   "source": [
    "import pyspark.sql as sparksql"
   ]
  },
  {
   "cell_type": "code",
   "execution_count": 81,
   "metadata": {},
   "outputs": [],
   "source": [
    "df.createOrReplaceTempView('table')"
   ]
  },
  {
   "cell_type": "code",
   "execution_count": 82,
   "metadata": {},
   "outputs": [
    {
     "name": "stdout",
     "output_type": "stream",
     "text": [
      "+--------+------+-------+----------+------------+-------------+---------------+-----------------+----------+----------------+--------------+-------------+-----------+\n",
      "| Loan_ID|Gender|Married|Dependents|   Education|Self_Employed|ApplicantIncome|CoapplicantIncome|LoanAmount|Loan_Amount_Term|Credit_History|Property_Area|Loan_Status|\n",
      "+--------+------+-------+----------+------------+-------------+---------------+-----------------+----------+----------------+--------------+-------------+-----------+\n",
      "|LP001002|  Male|     No|         0|    Graduate|           No|           5849|              0.0|      NULL|             360|             1|        Urban|          Y|\n",
      "|LP001003|  Male|    Yes|         1|    Graduate|           No|           4583|           1508.0|       128|             360|             1|        Rural|          N|\n",
      "|LP001005|  Male|    Yes|         0|    Graduate|          Yes|           3000|              0.0|        66|             360|             1|        Urban|          Y|\n",
      "|LP001006|  Male|    Yes|         0|Not Graduate|           No|           2583|           2358.0|       120|             360|             1|        Urban|          Y|\n",
      "|LP001008|  Male|     No|         0|    Graduate|           No|           6000|              0.0|       141|             360|             1|        Urban|          Y|\n",
      "+--------+------+-------+----------+------------+-------------+---------------+-----------------+----------+----------------+--------------+-------------+-----------+\n",
      "\n"
     ]
    }
   ],
   "source": [
    "spark.sql(\"Select * from table limit 5\").show()"
   ]
  },
  {
   "cell_type": "code",
   "execution_count": 83,
   "metadata": {},
   "outputs": [
    {
     "name": "stdout",
     "output_type": "stream",
     "text": [
      "+--------+\n",
      "| Loan_ID|\n",
      "+--------+\n",
      "|LP001002|\n",
      "|LP001003|\n",
      "|LP001005|\n",
      "|LP001006|\n",
      "|LP001008|\n",
      "|LP001011|\n",
      "|LP001013|\n",
      "|LP001018|\n",
      "|LP001020|\n",
      "|LP001024|\n",
      "|LP001027|\n",
      "|LP001028|\n",
      "|LP001029|\n",
      "|LP001030|\n",
      "|LP001032|\n",
      "|LP001038|\n",
      "|LP001041|\n",
      "|LP001046|\n",
      "|LP001066|\n",
      "|LP001068|\n",
      "+--------+\n",
      "only showing top 20 rows\n",
      "\n"
     ]
    }
   ],
   "source": [
    "spark.sql('Select Loan_ID from table where Credit_History = 1').show()"
   ]
  },
  {
   "cell_type": "code",
   "execution_count": 84,
   "metadata": {},
   "outputs": [
    {
     "name": "stdout",
     "output_type": "stream",
     "text": [
      "+--------------+\n",
      "|count(Loan_ID)|\n",
      "+--------------+\n",
      "|           475|\n",
      "+--------------+\n",
      "\n"
     ]
    }
   ],
   "source": [
    "spark.sql('Select count(Loan_ID) from table where Credit_History = 1').show()"
   ]
  },
  {
   "cell_type": "markdown",
   "metadata": {},
   "source": [
    "### Data Preprocessing"
   ]
  },
  {
   "cell_type": "code",
   "execution_count": 85,
   "metadata": {},
   "outputs": [
    {
     "name": "stdout",
     "output_type": "stream",
     "text": [
      "+-------+------+-------+----------+---------+-------------+---------------+-----------------+----------+----------------+--------------+-------------+-----------+\n",
      "|Loan_ID|Gender|Married|Dependents|Education|Self_Employed|ApplicantIncome|CoapplicantIncome|LoanAmount|Loan_Amount_Term|Credit_History|Property_Area|Loan_Status|\n",
      "+-------+------+-------+----------+---------+-------------+---------------+-----------------+----------+----------------+--------------+-------------+-----------+\n",
      "|      0|    13|      3|        15|        0|           32|              0|                0|        22|              14|            50|            0|          0|\n",
      "+-------+------+-------+----------+---------+-------------+---------------+-----------------+----------+----------------+--------------+-------------+-----------+\n",
      "\n"
     ]
    }
   ],
   "source": [
    "df.select([F.count(F.when(F.col(c).isNull(),c)).alias(c) for c in df.columns]).show() #checking null values in each column"
   ]
  },
  {
   "cell_type": "code",
   "execution_count": 86,
   "metadata": {},
   "outputs": [
    {
     "data": {
      "text/plain": [
       "146.41216216216216"
      ]
     },
     "execution_count": 86,
     "metadata": {},
     "output_type": "execute_result"
    }
   ],
   "source": [
    "#get mean value of a column\n",
    "mean_loanAmount = df.select(F.mean(df['LoanAmount'])).collect()[0][0]\n",
    "mean_loanAmount"
   ]
  },
  {
   "cell_type": "code",
   "execution_count": 87,
   "metadata": {},
   "outputs": [],
   "source": [
    "df = df.na.fill(mean_loanAmount,['LoanAmount'])"
   ]
  },
  {
   "cell_type": "code",
   "execution_count": 88,
   "metadata": {},
   "outputs": [],
   "source": [
    "#filling null values for numerical columns and categorical columns\n",
    "numerical_cols = ['LoanAmount','Loan_Amount_Term']\n",
    "categorical_cols =['Gender','Married','Dependents','Self_Employed','Credit_History']\n"
   ]
  },
  {
   "cell_type": "code",
   "execution_count": 89,
   "metadata": {},
   "outputs": [],
   "source": [
    "for col in numerical_cols:\n",
    "    df_mean = df.select(F.mean(df[col])).collect()[0][0]\n",
    "    df = df.na.fill(df_mean,[col])"
   ]
  },
  {
   "cell_type": "code",
   "execution_count": 90,
   "metadata": {},
   "outputs": [],
   "source": [
    "for col in categorical_cols:\n",
    "    df_mode = df.groupBy(col).count().orderBy(\"count\", ascending = False).first()[0]\n",
    "    df = df.na.fill(df_mode,[col])"
   ]
  },
  {
   "cell_type": "code",
   "execution_count": 91,
   "metadata": {},
   "outputs": [
    {
     "name": "stdout",
     "output_type": "stream",
     "text": [
      "+--------+------+-------+----------+------------+-------------+---------------+-----------------+----------+----------------+--------------+-------------+-----------+\n",
      "| Loan_ID|Gender|Married|Dependents|   Education|Self_Employed|ApplicantIncome|CoapplicantIncome|LoanAmount|Loan_Amount_Term|Credit_History|Property_Area|Loan_Status|\n",
      "+--------+------+-------+----------+------------+-------------+---------------+-----------------+----------+----------------+--------------+-------------+-----------+\n",
      "|LP001002|  Male|     No|         0|    Graduate|           No|           5849|              0.0|       146|             360|             1|        Urban|          Y|\n",
      "|LP001003|  Male|    Yes|         1|    Graduate|           No|           4583|           1508.0|       128|             360|             1|        Rural|          N|\n",
      "|LP001005|  Male|    Yes|         0|    Graduate|          Yes|           3000|              0.0|        66|             360|             1|        Urban|          Y|\n",
      "|LP001006|  Male|    Yes|         0|Not Graduate|           No|           2583|           2358.0|       120|             360|             1|        Urban|          Y|\n",
      "|LP001008|  Male|     No|         0|    Graduate|           No|           6000|              0.0|       141|             360|             1|        Urban|          Y|\n",
      "|LP001011|  Male|    Yes|         2|    Graduate|          Yes|           5417|           4196.0|       267|             360|             1|        Urban|          Y|\n",
      "|LP001013|  Male|    Yes|         0|Not Graduate|           No|           2333|           1516.0|        95|             360|             1|        Urban|          Y|\n",
      "|LP001014|  Male|    Yes|        3+|    Graduate|           No|           3036|           2504.0|       158|             360|             0|    Semiurban|          N|\n",
      "|LP001018|  Male|    Yes|         2|    Graduate|           No|           4006|           1526.0|       168|             360|             1|        Urban|          Y|\n",
      "|LP001020|  Male|    Yes|         1|    Graduate|           No|          12841|          10968.0|       349|             360|             1|    Semiurban|          N|\n",
      "|LP001024|  Male|    Yes|         2|    Graduate|           No|           3200|            700.0|        70|             360|             1|        Urban|          Y|\n",
      "|LP001027|  Male|    Yes|         2|    Graduate|           No|           2500|           1840.0|       109|             360|             1|        Urban|          Y|\n",
      "|LP001028|  Male|    Yes|         2|    Graduate|           No|           3073|           8106.0|       200|             360|             1|        Urban|          Y|\n",
      "|LP001029|  Male|     No|         0|    Graduate|           No|           1853|           2840.0|       114|             360|             1|        Rural|          N|\n",
      "|LP001030|  Male|    Yes|         2|    Graduate|           No|           1299|           1086.0|        17|             120|             1|        Urban|          Y|\n",
      "|LP001032|  Male|     No|         0|    Graduate|           No|           4950|              0.0|       125|             360|             1|        Urban|          Y|\n",
      "|LP001034|  Male|     No|         1|Not Graduate|           No|           3596|              0.0|       100|             240|             1|        Urban|          Y|\n",
      "|LP001036|Female|     No|         0|    Graduate|           No|           3510|              0.0|        76|             360|             0|        Urban|          N|\n",
      "|LP001038|  Male|    Yes|         0|Not Graduate|           No|           4887|              0.0|       133|             360|             1|        Rural|          N|\n",
      "|LP001041|  Male|    Yes|         0|    Graduate|           No|           2600|           3500.0|       115|             342|             1|        Urban|          Y|\n",
      "+--------+------+-------+----------+------------+-------------+---------------+-----------------+----------+----------------+--------------+-------------+-----------+\n",
      "only showing top 20 rows\n",
      "\n"
     ]
    }
   ],
   "source": [
    "df.show()"
   ]
  },
  {
   "cell_type": "code",
   "execution_count": 92,
   "metadata": {},
   "outputs": [
    {
     "name": "stdout",
     "output_type": "stream",
     "text": [
      "+-------+------+-------+----------+---------+-------------+---------------+-----------------+----------+----------------+--------------+-------------+-----------+\n",
      "|Loan_ID|Gender|Married|Dependents|Education|Self_Employed|ApplicantIncome|CoapplicantIncome|LoanAmount|Loan_Amount_Term|Credit_History|Property_Area|Loan_Status|\n",
      "+-------+------+-------+----------+---------+-------------+---------------+-----------------+----------+----------------+--------------+-------------+-----------+\n",
      "|      0|     0|      0|         0|        0|            0|              0|                0|         0|               0|             0|            0|          0|\n",
      "+-------+------+-------+----------+---------+-------------+---------------+-----------------+----------+----------------+--------------+-------------+-----------+\n",
      "\n"
     ]
    }
   ],
   "source": [
    "df.select([F.count(F.when(F.col(c).isNull(),c)).alias(c) for c in df.columns]).show() #checking null values in each column"
   ]
  },
  {
   "cell_type": "code",
   "execution_count": 93,
   "metadata": {},
   "outputs": [
    {
     "name": "stdout",
     "output_type": "stream",
     "text": [
      "+--------+------+-------+----------+------------+-------------+---------------+-----------------+----------+----------------+--------------+-------------+-----------+-----------+\n",
      "| Loan_ID|Gender|Married|Dependents|   Education|Self_Employed|ApplicantIncome|CoapplicantIncome|LoanAmount|Loan_Amount_Term|Credit_History|Property_Area|Loan_Status|TotalIncome|\n",
      "+--------+------+-------+----------+------------+-------------+---------------+-----------------+----------+----------------+--------------+-------------+-----------+-----------+\n",
      "|LP001002|  Male|     No|         0|    Graduate|           No|           5849|              0.0|       146|             360|             1|        Urban|          Y|     5849.0|\n",
      "|LP001003|  Male|    Yes|         1|    Graduate|           No|           4583|           1508.0|       128|             360|             1|        Rural|          N|     6091.0|\n",
      "|LP001005|  Male|    Yes|         0|    Graduate|          Yes|           3000|              0.0|        66|             360|             1|        Urban|          Y|     3000.0|\n",
      "|LP001006|  Male|    Yes|         0|Not Graduate|           No|           2583|           2358.0|       120|             360|             1|        Urban|          Y|     4941.0|\n",
      "|LP001008|  Male|     No|         0|    Graduate|           No|           6000|              0.0|       141|             360|             1|        Urban|          Y|     6000.0|\n",
      "|LP001011|  Male|    Yes|         2|    Graduate|          Yes|           5417|           4196.0|       267|             360|             1|        Urban|          Y|     9613.0|\n",
      "|LP001013|  Male|    Yes|         0|Not Graduate|           No|           2333|           1516.0|        95|             360|             1|        Urban|          Y|     3849.0|\n",
      "|LP001014|  Male|    Yes|        3+|    Graduate|           No|           3036|           2504.0|       158|             360|             0|    Semiurban|          N|     5540.0|\n",
      "|LP001018|  Male|    Yes|         2|    Graduate|           No|           4006|           1526.0|       168|             360|             1|        Urban|          Y|     5532.0|\n",
      "|LP001020|  Male|    Yes|         1|    Graduate|           No|          12841|          10968.0|       349|             360|             1|    Semiurban|          N|    23809.0|\n",
      "+--------+------+-------+----------+------------+-------------+---------------+-----------------+----------+----------------+--------------+-------------+-----------+-----------+\n",
      "only showing top 10 rows\n",
      "\n"
     ]
    }
   ],
   "source": [
    "df = df.withColumn('TotalIncome', F.col('ApplicantIncome')+F.col('CoapplicantIncome')) #Creating a new column with combined income of applicant and coapplicant\n",
    "df.show(10)"
   ]
  },
  {
   "cell_type": "code",
   "execution_count": 94,
   "metadata": {},
   "outputs": [
    {
     "name": "stdout",
     "output_type": "stream",
     "text": [
      "+--------+------+-------+----------+------------+-------------+---------------+-----------------+----------+----------------+--------------+-------------+-----------+-----------+\n",
      "| Loan_ID|Gender|Married|Dependents|   Education|Self_Employed|ApplicantIncome|CoapplicantIncome|LoanAmount|Loan_Amount_Term|Credit_History|Property_Area|Loan_Status|TotalIncome|\n",
      "+--------+------+-------+----------+------------+-------------+---------------+-----------------+----------+----------------+--------------+-------------+-----------+-----------+\n",
      "|LP001002|  Male|     No|         0|    Graduate|           No|           5849|              0.0|       146|             360|             1|        Urban|          1|     5849.0|\n",
      "|LP001003|  Male|    Yes|         1|    Graduate|           No|           4583|           1508.0|       128|             360|             1|        Rural|          0|     6091.0|\n",
      "|LP001005|  Male|    Yes|         0|    Graduate|          Yes|           3000|              0.0|        66|             360|             1|        Urban|          1|     3000.0|\n",
      "|LP001006|  Male|    Yes|         0|Not Graduate|           No|           2583|           2358.0|       120|             360|             1|        Urban|          1|     4941.0|\n",
      "|LP001008|  Male|     No|         0|    Graduate|           No|           6000|              0.0|       141|             360|             1|        Urban|          1|     6000.0|\n",
      "|LP001011|  Male|    Yes|         2|    Graduate|          Yes|           5417|           4196.0|       267|             360|             1|        Urban|          1|     9613.0|\n",
      "|LP001013|  Male|    Yes|         0|Not Graduate|           No|           2333|           1516.0|        95|             360|             1|        Urban|          1|     3849.0|\n",
      "|LP001014|  Male|    Yes|        3+|    Graduate|           No|           3036|           2504.0|       158|             360|             0|    Semiurban|          0|     5540.0|\n",
      "|LP001018|  Male|    Yes|         2|    Graduate|           No|           4006|           1526.0|       168|             360|             1|        Urban|          1|     5532.0|\n",
      "|LP001020|  Male|    Yes|         1|    Graduate|           No|          12841|          10968.0|       349|             360|             1|    Semiurban|          0|    23809.0|\n",
      "+--------+------+-------+----------+------------+-------------+---------------+-----------------+----------+----------------+--------------+-------------+-----------+-----------+\n",
      "only showing top 10 rows\n",
      "\n"
     ]
    }
   ],
   "source": [
    "df = df.withColumn('Loan_Status', F.when(df['Loan_Status']=='Y', 1).otherwise(0)) #changing loan status to numerical value\n",
    "df.show(10)"
   ]
  },
  {
   "cell_type": "markdown",
   "metadata": {},
   "source": [
    "### Feature Engineering"
   ]
  },
  {
   "cell_type": "code",
   "execution_count": 95,
   "metadata": {},
   "outputs": [
    {
     "name": "stdout",
     "output_type": "stream",
     "text": [
      "root\n",
      " |-- Loan_ID: string (nullable = true)\n",
      " |-- Gender: string (nullable = false)\n",
      " |-- Married: string (nullable = false)\n",
      " |-- Dependents: string (nullable = false)\n",
      " |-- Education: string (nullable = true)\n",
      " |-- Self_Employed: string (nullable = false)\n",
      " |-- ApplicantIncome: integer (nullable = true)\n",
      " |-- CoapplicantIncome: double (nullable = true)\n",
      " |-- LoanAmount: integer (nullable = true)\n",
      " |-- Loan_Amount_Term: integer (nullable = true)\n",
      " |-- Credit_History: integer (nullable = true)\n",
      " |-- Property_Area: string (nullable = true)\n",
      " |-- Loan_Status: integer (nullable = false)\n",
      " |-- TotalIncome: double (nullable = true)\n",
      "\n"
     ]
    }
   ],
   "source": [
    "df.printSchema()"
   ]
  },
  {
   "cell_type": "code",
   "execution_count": 96,
   "metadata": {},
   "outputs": [],
   "source": [
    "from pyspark.ml.feature import VectorAssembler, OneHotEncoder, StringIndexer\n",
    "from pyspark.ml import Pipeline"
   ]
  },
  {
   "cell_type": "code",
   "execution_count": 97,
   "metadata": {},
   "outputs": [],
   "source": [
    "numerical_columns = ['LoanAmount','Loan_Amount_Term','ApplicantIncome','CoapplicantIncome','TotalIncome']\n",
    "categorical_columns =['Gender','Married','Dependents','Self_Employed','Credit_History','Property_Area']\n",
    "\n",
    "\n",
    "#index the string columns\n",
    "indexers = [StringIndexer(inputCol=col, outputCol=\"{0}_index\".format(col)) for col in categorical_columns]\n",
    "\n",
    "#encode the indexed values\n",
    "encoders = [OneHotEncoder(dropLast=False, inputCol=indexer.getOutputCol(), outputCol=\"{0}_encoded\".format(indexer.getOutputCol())) for indexer in indexers]\n",
    "\n",
    "input_cols = [encoder.getOutputCol() for encoder in encoders] + numerical_columns\n",
    "\n",
    "#vectorize the encoded values\n",
    "assembler = VectorAssembler(inputCols=input_cols, outputCol=\"feature\")"
   ]
  },
  {
   "cell_type": "code",
   "execution_count": 98,
   "metadata": {},
   "outputs": [],
   "source": [
    "#create the pipeline to transform the data\n",
    "pipeline = Pipeline(stages = indexers + encoders + [assembler])"
   ]
  },
  {
   "cell_type": "code",
   "execution_count": 99,
   "metadata": {},
   "outputs": [],
   "source": [
    "data_model = pipeline.fit(df)"
   ]
  },
  {
   "cell_type": "code",
   "execution_count": 100,
   "metadata": {},
   "outputs": [],
   "source": [
    "transformed_df = data_model.transform(df)"
   ]
  },
  {
   "cell_type": "code",
   "execution_count": 101,
   "metadata": {},
   "outputs": [
    {
     "name": "stdout",
     "output_type": "stream",
     "text": [
      "+--------+------+-------+----------+---------+-------------+---------------+-----------------+----------+----------------+--------------+-------------+-----------+-----------+------------+-------------+----------------+-------------------+--------------------+-------------------+--------------------+---------------------+------------------------+---------------------------+----------------------------+---------------------------+--------------------+\n",
      "| Loan_ID|Gender|Married|Dependents|Education|Self_Employed|ApplicantIncome|CoapplicantIncome|LoanAmount|Loan_Amount_Term|Credit_History|Property_Area|Loan_Status|TotalIncome|Gender_index|Married_index|Dependents_index|Self_Employed_index|Credit_History_index|Property_Area_index|Gender_index_encoded|Married_index_encoded|Dependents_index_encoded|Self_Employed_index_encoded|Credit_History_index_encoded|Property_Area_index_encoded|             feature|\n",
      "+--------+------+-------+----------+---------+-------------+---------------+-----------------+----------+----------------+--------------+-------------+-----------+-----------+------------+-------------+----------------+-------------------+--------------------+-------------------+--------------------+---------------------+------------------------+---------------------------+----------------------------+---------------------------+--------------------+\n",
      "|LP001002|  Male|     No|         0| Graduate|           No|           5849|              0.0|       146|             360|             1|        Urban|          1|     5849.0|         0.0|          1.0|             0.0|                0.0|                 0.0|                1.0|       (2,[0],[1.0])|        (2,[1],[1.0])|           (4,[0],[1.0])|              (2,[0],[1.0])|               (2,[0],[1.0])|              (3,[1],[1.0])|(20,[0,3,4,8,10,1...|\n",
      "+--------+------+-------+----------+---------+-------------+---------------+-----------------+----------+----------------+--------------+-------------+-----------+-----------+------------+-------------+----------------+-------------------+--------------------+-------------------+--------------------+---------------------+------------------------+---------------------------+----------------------------+---------------------------+--------------------+\n",
      "only showing top 1 row\n",
      "\n"
     ]
    }
   ],
   "source": [
    "transformed_df.show(1)"
   ]
  },
  {
   "cell_type": "code",
   "execution_count": 102,
   "metadata": {},
   "outputs": [],
   "source": [
    "transformed_df = transformed_df.select(['feature','Loan_Status'])"
   ]
  },
  {
   "cell_type": "code",
   "execution_count": 103,
   "metadata": {},
   "outputs": [],
   "source": [
    "train_data,test_data = transformed_df.randomSplit([0.9,0.1], seed = 42) "
   ]
  },
  {
   "cell_type": "markdown",
   "metadata": {},
   "source": [
    "### Model Training and Testing"
   ]
  },
  {
   "cell_type": "code",
   "execution_count": 104,
   "metadata": {},
   "outputs": [],
   "source": [
    "from pyspark.ml.classification import LogisticRegression, RandomForestClassifier\n",
    "from pyspark.ml.evaluation import BinaryClassificationEvaluator"
   ]
  },
  {
   "cell_type": "code",
   "execution_count": 105,
   "metadata": {},
   "outputs": [],
   "source": [
    "#Logistic Regression\n",
    "lr = LogisticRegression(featuresCol= 'feature', labelCol='Loan_Status')\n",
    "lr_model = lr.fit(train_data)"
   ]
  },
  {
   "cell_type": "code",
   "execution_count": 106,
   "metadata": {},
   "outputs": [
    {
     "name": "stdout",
     "output_type": "stream",
     "text": [
      "+--------------------+-----------+--------------------+--------------------+----------+\n",
      "|             feature|Loan_Status|       rawPrediction|         probability|prediction|\n",
      "+--------------------+-----------+--------------------+--------------------+----------+\n",
      "|(20,[0,2,4,8,10,1...|          1|[-2.1342024710992...|[0.10581669665579...|       1.0|\n",
      "|(20,[0,2,4,8,10,1...|          1|[-2.1263775416765...|[0.10655937471684...|       1.0|\n",
      "|(20,[0,2,4,8,10,1...|          1|[-1.6643699192816...|[0.15917625909110...|       1.0|\n",
      "|(20,[0,2,4,8,10,1...|          1|[-1.4283229574072...|[0.19336012139024...|       1.0|\n",
      "|(20,[0,2,4,8,10,1...|          1|[-1.4948772407310...|[0.18319080851177...|       1.0|\n",
      "+--------------------+-----------+--------------------+--------------------+----------+\n",
      "only showing top 5 rows\n",
      "\n"
     ]
    }
   ],
   "source": [
    "lr_predict = lr_model.transform(test_data)\n",
    "lr_predict.show(5)"
   ]
  },
  {
   "cell_type": "code",
   "execution_count": 107,
   "metadata": {},
   "outputs": [
    {
     "name": "stdout",
     "output_type": "stream",
     "text": [
      "AUC: 0.7226890756302521\n"
     ]
    }
   ],
   "source": [
    "auc = BinaryClassificationEvaluator().setLabelCol('Loan_Status')\n",
    "print('AUC:', str(auc.evaluate(lr_predict)))"
   ]
  },
  {
   "cell_type": "code",
   "execution_count": 108,
   "metadata": {},
   "outputs": [],
   "source": [
    "#RandomForest Classifier\n",
    "rf = RandomForestClassifier(featuresCol='feature', labelCol='Loan_Status')\n",
    "rf_model = rf.fit(train_data)"
   ]
  },
  {
   "cell_type": "code",
   "execution_count": 110,
   "metadata": {},
   "outputs": [
    {
     "name": "stdout",
     "output_type": "stream",
     "text": [
      "AUC: 0.7710084033613446\n"
     ]
    }
   ],
   "source": [
    "rf_predict = rf_model.transform(test_data)\n",
    "auc = BinaryClassificationEvaluator().setLabelCol('Loan_Status')\n",
    "print('AUC:', str(auc.evaluate(rf_predict)))"
   ]
  },
  {
   "cell_type": "code",
   "execution_count": null,
   "metadata": {},
   "outputs": [],
   "source": []
  }
 ],
 "metadata": {
  "kernelspec": {
   "display_name": "base",
   "language": "python",
   "name": "python3"
  },
  "language_info": {
   "codemirror_mode": {
    "name": "ipython",
    "version": 3
   },
   "file_extension": ".py",
   "mimetype": "text/x-python",
   "name": "python",
   "nbconvert_exporter": "python",
   "pygments_lexer": "ipython3",
   "version": "3.11.3"
  }
 },
 "nbformat": 4,
 "nbformat_minor": 2
}
