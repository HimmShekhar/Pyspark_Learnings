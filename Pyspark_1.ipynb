{
 "cells": [
  {
   "cell_type": "code",
   "execution_count": 43,
   "id": "4a89b5f2",
   "metadata": {},
   "outputs": [
    {
     "name": "stdout",
     "output_type": "stream",
     "text": [
      "Requirement already satisfied: pyspark in c:\\users\\hshek\\anaconda3\\lib\\site-packages (3.5.1)Note: you may need to restart the kernel to use updated packages.\n",
      "\n",
      "Requirement already satisfied: py4j==0.10.9.7 in c:\\users\\hshek\\anaconda3\\lib\\site-packages (from pyspark) (0.10.9.7)\n"
     ]
    }
   ],
   "source": [
    "pip install pyspark"
   ]
  },
  {
   "cell_type": "code",
   "execution_count": 44,
   "id": "a34fe79a",
   "metadata": {},
   "outputs": [],
   "source": [
    "import pyspark"
   ]
  },
  {
   "cell_type": "code",
   "execution_count": 45,
   "id": "1bfab348",
   "metadata": {},
   "outputs": [
    {
     "data": {
      "text/html": [
       "<div>\n",
       "<style scoped>\n",
       "    .dataframe tbody tr th:only-of-type {\n",
       "        vertical-align: middle;\n",
       "    }\n",
       "\n",
       "    .dataframe tbody tr th {\n",
       "        vertical-align: top;\n",
       "    }\n",
       "\n",
       "    .dataframe thead th {\n",
       "        text-align: right;\n",
       "    }\n",
       "</style>\n",
       "<table border=\"1\" class=\"dataframe\">\n",
       "  <thead>\n",
       "    <tr style=\"text-align: right;\">\n",
       "      <th></th>\n",
       "      <th>Name</th>\n",
       "      <th>Salary</th>\n",
       "    </tr>\n",
       "  </thead>\n",
       "  <tbody>\n",
       "    <tr>\n",
       "      <th>0</th>\n",
       "      <td>Himanshu</td>\n",
       "      <td>100000</td>\n",
       "    </tr>\n",
       "    <tr>\n",
       "      <th>1</th>\n",
       "      <td>Shekhar</td>\n",
       "      <td>60000</td>\n",
       "    </tr>\n",
       "    <tr>\n",
       "      <th>2</th>\n",
       "      <td>Om</td>\n",
       "      <td>100000000</td>\n",
       "    </tr>\n",
       "  </tbody>\n",
       "</table>\n",
       "</div>"
      ],
      "text/plain": [
       "       Name     Salary\n",
       "0  Himanshu     100000\n",
       "1   Shekhar      60000\n",
       "2        Om  100000000"
      ]
     },
     "execution_count": 45,
     "metadata": {},
     "output_type": "execute_result"
    }
   ],
   "source": [
    "import pandas as pd\n",
    "pd.read_csv('Test.csv')"
   ]
  },
  {
   "cell_type": "code",
   "execution_count": 46,
   "id": "9374a232",
   "metadata": {},
   "outputs": [],
   "source": [
    "from pyspark.sql import SparkSession"
   ]
  },
  {
   "cell_type": "code",
   "execution_count": 47,
   "id": "b2275e72",
   "metadata": {},
   "outputs": [],
   "source": [
    "spark = SparkSession.builder.appName('Practice').getOrCreate()"
   ]
  },
  {
   "cell_type": "code",
   "execution_count": 48,
   "id": "b474f006",
   "metadata": {},
   "outputs": [],
   "source": [
    "df_pyspark = spark.read.csv('Test.csv')"
   ]
  },
  {
   "cell_type": "code",
   "execution_count": 49,
   "id": "d22bd524",
   "metadata": {},
   "outputs": [
    {
     "data": {
      "text/plain": [
       "DataFrame[_c0: string, _c1: string]"
      ]
     },
     "execution_count": 49,
     "metadata": {},
     "output_type": "execute_result"
    }
   ],
   "source": [
    "df_pyspark"
   ]
  },
  {
   "cell_type": "code",
   "execution_count": 50,
   "id": "6dd1850a",
   "metadata": {},
   "outputs": [
    {
     "name": "stdout",
     "output_type": "stream",
     "text": [
      "+--------+---------+\n",
      "|     _c0|      _c1|\n",
      "+--------+---------+\n",
      "|    Name|   Salary|\n",
      "|Himanshu|   100000|\n",
      "| Shekhar|    60000|\n",
      "|      Om|100000000|\n",
      "+--------+---------+\n",
      "\n"
     ]
    }
   ],
   "source": [
    "df_pyspark.show()"
   ]
  },
  {
   "cell_type": "code",
   "execution_count": 51,
   "id": "fa4d0f02",
   "metadata": {},
   "outputs": [],
   "source": [
    "df_pyspark = spark.read.option('header','true').csv('Test.csv')"
   ]
  },
  {
   "cell_type": "code",
   "execution_count": 52,
   "id": "054233ae",
   "metadata": {},
   "outputs": [
    {
     "data": {
      "text/plain": [
       "pyspark.sql.dataframe.DataFrame"
      ]
     },
     "execution_count": 52,
     "metadata": {},
     "output_type": "execute_result"
    }
   ],
   "source": [
    "type(df_pyspark)"
   ]
  },
  {
   "cell_type": "code",
   "execution_count": 53,
   "id": "69523cfc",
   "metadata": {},
   "outputs": [
    {
     "name": "stdout",
     "output_type": "stream",
     "text": [
      "root\n",
      " |-- Name: string (nullable = true)\n",
      " |-- Salary: string (nullable = true)\n",
      "\n"
     ]
    }
   ],
   "source": [
    "df_pyspark.printSchema()"
   ]
  },
  {
   "cell_type": "markdown",
   "id": "6f98db30",
   "metadata": {},
   "source": [
    "# Pyspark Dataframes\n",
    "#### Reading the Dataset\n",
    "#### Checking the datatypes of the columns(Schema)\n",
    "#### Selecting Columns And Indexing\n",
    "#### Check Describe Option similar to Pandas\n",
    "#### Adding Columns\n",
    "#### Dropping Columns\n"
   ]
  },
  {
   "cell_type": "code",
   "execution_count": 54,
   "id": "97934502",
   "metadata": {},
   "outputs": [],
   "source": [
    "from pyspark.sql import SparkSession"
   ]
  },
  {
   "cell_type": "code",
   "execution_count": 55,
   "id": "1a8a7cdc",
   "metadata": {},
   "outputs": [],
   "source": [
    "spark = SparkSession.builder.appName('PracticeDataframe').getOrCreate()"
   ]
  },
  {
   "cell_type": "code",
   "execution_count": 56,
   "id": "74699e77",
   "metadata": {},
   "outputs": [
    {
     "data": {
      "text/html": [
       "\n",
       "            <div>\n",
       "                <p><b>SparkSession - in-memory</b></p>\n",
       "                \n",
       "        <div>\n",
       "            <p><b>SparkContext</b></p>\n",
       "\n",
       "            <p><a href=\"http://192.168.0.64:4041\">Spark UI</a></p>\n",
       "\n",
       "            <dl>\n",
       "              <dt>Version</dt>\n",
       "                <dd><code>v3.5.1</code></dd>\n",
       "              <dt>Master</dt>\n",
       "                <dd><code>local[*]</code></dd>\n",
       "              <dt>AppName</dt>\n",
       "                <dd><code>Practice</code></dd>\n",
       "            </dl>\n",
       "        </div>\n",
       "        \n",
       "            </div>\n",
       "        "
      ],
      "text/plain": [
       "<pyspark.sql.session.SparkSession at 0x1e780212f10>"
      ]
     },
     "execution_count": 56,
     "metadata": {},
     "output_type": "execute_result"
    }
   ],
   "source": [
    "spark"
   ]
  },
  {
   "cell_type": "code",
   "execution_count": 57,
   "id": "57c4ada8",
   "metadata": {},
   "outputs": [],
   "source": [
    " ## read the dataset\n",
    "df_spark = spark.read.option('header', 'true').csv('Test.csv', inferSchema=True)"
   ]
  },
  {
   "cell_type": "code",
   "execution_count": 58,
   "id": "d239d7f3",
   "metadata": {},
   "outputs": [
    {
     "name": "stdout",
     "output_type": "stream",
     "text": [
      "root\n",
      " |-- Name: string (nullable = true)\n",
      " |-- Salary: integer (nullable = true)\n",
      "\n"
     ]
    }
   ],
   "source": [
    "##Check the schema\n",
    "df_spark.printSchema()"
   ]
  },
  {
   "cell_type": "code",
   "execution_count": 59,
   "id": "c281977f",
   "metadata": {},
   "outputs": [
    {
     "data": {
      "text/plain": [
       "pyspark.sql.dataframe.DataFrame"
      ]
     },
     "execution_count": 59,
     "metadata": {},
     "output_type": "execute_result"
    }
   ],
   "source": [
    "type(df_spark)"
   ]
  },
  {
   "cell_type": "code",
   "execution_count": 60,
   "id": "b61f0699",
   "metadata": {},
   "outputs": [
    {
     "data": {
      "text/plain": [
       "['Name', 'Salary']"
      ]
     },
     "execution_count": 60,
     "metadata": {},
     "output_type": "execute_result"
    }
   ],
   "source": [
    "df_spark.columns"
   ]
  },
  {
   "cell_type": "code",
   "execution_count": 61,
   "id": "f61edfd7",
   "metadata": {},
   "outputs": [
    {
     "data": {
      "text/plain": [
       "Row(Name='Om', Salary=100000000)"
      ]
     },
     "execution_count": 61,
     "metadata": {},
     "output_type": "execute_result"
    }
   ],
   "source": [
    "df_spark.head(3)[2]"
   ]
  },
  {
   "cell_type": "code",
   "execution_count": 62,
   "id": "65629b83",
   "metadata": {},
   "outputs": [
    {
     "name": "stdout",
     "output_type": "stream",
     "text": [
      "+--------+---------+\n",
      "|    Name|   Salary|\n",
      "+--------+---------+\n",
      "|Himanshu|   100000|\n",
      "| Shekhar|    60000|\n",
      "|      Om|100000000|\n",
      "+--------+---------+\n",
      "\n"
     ]
    }
   ],
   "source": [
    "df_spark.select('Name', 'Salary').show()"
   ]
  },
  {
   "cell_type": "code",
   "execution_count": 63,
   "id": "22a62837",
   "metadata": {},
   "outputs": [
    {
     "data": {
      "text/plain": [
       "[('Name', 'string'), ('Salary', 'int')]"
      ]
     },
     "execution_count": 63,
     "metadata": {},
     "output_type": "execute_result"
    }
   ],
   "source": [
    "df_spark.dtypes"
   ]
  },
  {
   "cell_type": "code",
   "execution_count": 64,
   "id": "4e00d017",
   "metadata": {},
   "outputs": [
    {
     "name": "stdout",
     "output_type": "stream",
     "text": [
      "+-------+--------+--------------------+\n",
      "|summary|    Name|              Salary|\n",
      "+-------+--------+--------------------+\n",
      "|  count|       3|                   3|\n",
      "|   mean|    NULL|3.3386666666666668E7|\n",
      "| stddev|    NULL| 5.768884236430241E7|\n",
      "|    min|Himanshu|               60000|\n",
      "|    max| Shekhar|           100000000|\n",
      "+-------+--------+--------------------+\n",
      "\n"
     ]
    }
   ],
   "source": [
    "df_spark.describe().show()"
   ]
  },
  {
   "cell_type": "code",
   "execution_count": 65,
   "id": "358f47bd",
   "metadata": {},
   "outputs": [],
   "source": [
    "#Adding columns in pyspark data frame\n",
    "df_spark = df_spark.withColumn('Salary after 2 Years', df_spark['Salary']+10000)"
   ]
  },
  {
   "cell_type": "code",
   "execution_count": 66,
   "id": "f800bc39",
   "metadata": {},
   "outputs": [
    {
     "name": "stdout",
     "output_type": "stream",
     "text": [
      "+--------+---------+--------------------+\n",
      "|    Name|   Salary|Salary after 2 Years|\n",
      "+--------+---------+--------------------+\n",
      "|Himanshu|   100000|              110000|\n",
      "| Shekhar|    60000|               70000|\n",
      "|      Om|100000000|           100010000|\n",
      "+--------+---------+--------------------+\n",
      "\n"
     ]
    }
   ],
   "source": [
    "df_spark.show()"
   ]
  },
  {
   "cell_type": "code",
   "execution_count": 67,
   "id": "5e2ebc29",
   "metadata": {},
   "outputs": [],
   "source": [
    "#Drop the Columns\n",
    "df_spark = df_spark.drop('Salary after 2 Years')"
   ]
  },
  {
   "cell_type": "code",
   "execution_count": 68,
   "id": "e61feef6",
   "metadata": {},
   "outputs": [
    {
     "name": "stdout",
     "output_type": "stream",
     "text": [
      "+--------+---------+\n",
      "|    Name|   Salary|\n",
      "+--------+---------+\n",
      "|Himanshu|   100000|\n",
      "| Shekhar|    60000|\n",
      "|      Om|100000000|\n",
      "+--------+---------+\n",
      "\n"
     ]
    }
   ],
   "source": [
    "df_spark.show()"
   ]
  },
  {
   "cell_type": "code",
   "execution_count": 69,
   "id": "e76e750a",
   "metadata": {},
   "outputs": [
    {
     "name": "stdout",
     "output_type": "stream",
     "text": [
      "+--------+---------+\n",
      "|  Name_1|   Salary|\n",
      "+--------+---------+\n",
      "|Himanshu|   100000|\n",
      "| Shekhar|    60000|\n",
      "|      Om|100000000|\n",
      "+--------+---------+\n",
      "\n"
     ]
    }
   ],
   "source": [
    " #Renaming Columns\n",
    "\n",
    "df_spark.withColumnRenamed('Name', 'Name_1').show()"
   ]
  },
  {
   "cell_type": "code",
   "execution_count": 70,
   "id": "89e97c6d",
   "metadata": {},
   "outputs": [],
   "source": [
    "#Handling Missing Values"
   ]
  },
  {
   "cell_type": "code",
   "execution_count": 72,
   "id": "4eb3d3b0",
   "metadata": {},
   "outputs": [],
   "source": [
    "df_pyspark_mv = spark.read.csv('Practice_MissingValues.csv', header = True, inferSchema= True)"
   ]
  },
  {
   "cell_type": "code",
   "execution_count": 73,
   "id": "56191a55",
   "metadata": {},
   "outputs": [
    {
     "name": "stdout",
     "output_type": "stream",
     "text": [
      "+--------+-------+----------+----+\n",
      "|    Name| Salary|Experience| Age|\n",
      "+--------+-------+----------+----+\n",
      "|Himanshu| 100000|         3|  25|\n",
      "| Shekhar|  60000|         2|  29|\n",
      "|      Om|   NULL|         7|  33|\n",
      "|    Himm| 105000|         5|  12|\n",
      "|  Sumeet|  87000|         3|NULL|\n",
      "|   Manoj|1223112|         9|  42|\n",
      "+--------+-------+----------+----+\n",
      "\n"
     ]
    }
   ],
   "source": [
    "df_pyspark_mv.show()"
   ]
  },
  {
   "cell_type": "code",
   "execution_count": 75,
   "id": "ed939e68",
   "metadata": {},
   "outputs": [
    {
     "name": "stdout",
     "output_type": "stream",
     "text": [
      "+--------+-------+----------+\n",
      "|    Name| Salary|Experience|\n",
      "+--------+-------+----------+\n",
      "|Himanshu| 100000|         3|\n",
      "| Shekhar|  60000|         2|\n",
      "|      Om|   NULL|         7|\n",
      "|    Himm| 105000|         5|\n",
      "|  Sumeet|  87000|         3|\n",
      "|   Manoj|1223112|         9|\n",
      "+--------+-------+----------+\n",
      "\n"
     ]
    }
   ],
   "source": [
    "df_pyspark_mv.drop('Age').show()"
   ]
  },
  {
   "cell_type": "code",
   "execution_count": 76,
   "id": "8fd03908",
   "metadata": {},
   "outputs": [
    {
     "name": "stdout",
     "output_type": "stream",
     "text": [
      "+--------+-------+----------+----+\n",
      "|    Name| Salary|Experience| Age|\n",
      "+--------+-------+----------+----+\n",
      "|Himanshu| 100000|         3|  25|\n",
      "| Shekhar|  60000|         2|  29|\n",
      "|      Om|   NULL|         7|  33|\n",
      "|    Himm| 105000|         5|  12|\n",
      "|  Sumeet|  87000|         3|NULL|\n",
      "|   Manoj|1223112|         9|  42|\n",
      "+--------+-------+----------+----+\n",
      "\n"
     ]
    }
   ],
   "source": [
    "df_pyspark_mv.show()"
   ]
  },
  {
   "cell_type": "code",
   "execution_count": 77,
   "id": "23093522",
   "metadata": {},
   "outputs": [
    {
     "name": "stdout",
     "output_type": "stream",
     "text": [
      "+--------+-------+----------+---+\n",
      "|    Name| Salary|Experience|Age|\n",
      "+--------+-------+----------+---+\n",
      "|Himanshu| 100000|         3| 25|\n",
      "| Shekhar|  60000|         2| 29|\n",
      "|    Himm| 105000|         5| 12|\n",
      "|   Manoj|1223112|         9| 42|\n",
      "+--------+-------+----------+---+\n",
      "\n"
     ]
    }
   ],
   "source": [
    "df_pyspark_mv.na.drop().show()"
   ]
  },
  {
   "cell_type": "code",
   "execution_count": 79,
   "id": "919215a6",
   "metadata": {},
   "outputs": [
    {
     "name": "stdout",
     "output_type": "stream",
     "text": [
      "+--------+-------+----------+---+\n",
      "|    Name| Salary|Experience|Age|\n",
      "+--------+-------+----------+---+\n",
      "|Himanshu| 100000|         3| 25|\n",
      "| Shekhar|  60000|         2| 29|\n",
      "|      Om|   NULL|         7| 33|\n",
      "|    Himm| 105000|         5| 12|\n",
      "|   Manoj|1223112|         9| 42|\n",
      "+--------+-------+----------+---+\n",
      "\n"
     ]
    }
   ],
   "source": [
    "df_pyspark_mv.na.drop(how=\"any\", thresh=1, subset=['Age']).show()"
   ]
  },
  {
   "cell_type": "code",
   "execution_count": 80,
   "id": "4e87ca79",
   "metadata": {},
   "outputs": [],
   "source": [
    "#Filling the missing Value:"
   ]
  },
  {
   "cell_type": "code",
   "execution_count": null,
   "id": "a8ac721a",
   "metadata": {},
   "outputs": [],
   "source": []
  }
 ],
 "metadata": {
  "kernelspec": {
   "display_name": "Python 3 (ipykernel)",
   "language": "python",
   "name": "python3"
  },
  "language_info": {
   "codemirror_mode": {
    "name": "ipython",
    "version": 3
   },
   "file_extension": ".py",
   "mimetype": "text/x-python",
   "name": "python",
   "nbconvert_exporter": "python",
   "pygments_lexer": "ipython3",
   "version": "3.11.3"
  }
 },
 "nbformat": 4,
 "nbformat_minor": 5
}
